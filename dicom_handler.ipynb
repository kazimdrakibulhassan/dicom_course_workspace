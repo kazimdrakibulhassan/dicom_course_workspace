{
 "cells": [
  {
   "cell_type": "markdown",
   "id": "2f3dc5a4",
   "metadata": {},
   "source": [
    "### Importing the libraries"
   ]
  },
  {
   "cell_type": "code",
   "execution_count": 1,
   "id": "01c709de",
   "metadata": {},
   "outputs": [],
   "source": [
    "import pydicom"
   ]
  },
  {
   "cell_type": "code",
   "execution_count": 2,
   "id": "411e3d1c",
   "metadata": {},
   "outputs": [],
   "source": [
    "dicom_img = pydicom.dcmread(\"data/sample.dcm\")"
   ]
  },
  {
   "cell_type": "code",
   "execution_count": null,
   "id": "21715dc9",
   "metadata": {},
   "outputs": [
    {
     "data": {
      "text/plain": [
       "Dataset.file_meta -------------------------------\n",
       "(0002,0000) File Meta Information Group Length  UL: 206\n",
       "(0002,0001) File Meta Information Version       OB: b'\\x00\\x01'\n",
       "(0002,0002) Media Storage SOP Class UID         UI: CT Image Storage\n",
       "(0002,0003) Media Storage SOP Instance UID      UI: 1.3.6.1.4.1.14519.5.2.1.6279.6001.146096930167080421473717909599\n",
       "(0002,0010) Transfer Syntax UID                 UI: Explicit VR Little Endian\n",
       "(0002,0012) Implementation Class UID            UI: 1.3.6.1.4.1.22213.1.143\n",
       "(0002,0013) Implementation Version Name         SH: '0.5'\n",
       "(0002,0016) Source Application Entity Title     AE: 'POSDA'\n",
       "-------------------------------------------------\n",
       "(0008,0005) Specific Character Set              CS: 'ISO_IR 100'\n",
       "(0008,0008) Image Type                          CS: ['ORIGINAL', 'PRIMARY', 'AXIAL']\n",
       "(0008,0016) SOP Class UID                       UI: CT Image Storage\n",
       "(0008,0018) SOP Instance UID                    UI: 1.3.6.1.4.1.14519.5.2.1.6279.6001.146096930167080421473717909599\n",
       "(0008,0020) Study Date                          DA: '20000101'\n",
       "(0008,0021) Series Date                         DA: '20000101'\n",
       "(0008,0022) Acquisition Date                    DA: '20000101'\n",
       "(0008,0023) Content Date                        DA: '20000101'\n",
       "(0008,0024) Overlay Date                        DA: '20000101'\n",
       "(0008,0025) Curve Date                          DA: '20000101'\n",
       "(0008,002A) Acquisition DateTime                DT: '20000101'\n",
       "(0008,0030) Study Time                          TM: ''\n",
       "(0008,0032) Acquisition Time                    TM: ''\n",
       "(0008,0033) Content Time                        TM: ''\n",
       "(0008,0050) Accession Number                    SH: ''\n",
       "(0008,0060) Modality                            CS: 'CT'\n",
       "(0008,0070) Manufacturer                        LO: 'GE MEDICAL SYSTEMS'\n",
       "(0008,0090) Referring Physician's Name          PN: ''\n",
       "(0008,1090) Manufacturer's Model Name           LO: 'LightSpeed16'\n",
       "(0008,1155) Referenced SOP Instance UID         UI: 1.3.6.1.4.1.14519.5.2.1.6279.6001.158139348308860992665003892411\n",
       "(0010,0010) Patient's Name                      PN: ''\n",
       "(0010,0020) Patient ID                          LO: 'LIDC-IDRI-0012'\n",
       "(0010,0030) Patient's Birth Date                DA: ''\n",
       "(0010,0040) Patient's Sex                       CS: ''\n",
       "(0010,1010) Patient's Age                       AS: ''\n",
       "(0010,21D0) Last Menstrual Date                 DA: '20000101'\n",
       "(0012,0062) Patient Identity Removed            CS: 'YES'\n",
       "(0012,0063) De-identification Method            LO: 'DCM:113100/113105/113107/113108/113109/113111'\n",
       "(0013,0010) Private Creator                     LO: 'CTP'\n",
       "(0013,1010) Private tag data                    LO: 'LIDC-IDRI'\n",
       "(0013,1013) Private tag data                    LO: '62796001'\n",
       "(0018,0010) Contrast/Bolus Agent                LO: 'ORAL/RECTAL & IV'\n",
       "(0018,0015) Body Part Examined                  CS: 'CHEST'\n",
       "(0018,0022) Scan Options                        CS: 'HELICAL MODE'\n",
       "(0018,0050) Slice Thickness                     DS: '2.500000'\n",
       "(0018,0060) KVP                                 DS: '120'\n",
       "(0018,0090) Data Collection Diameter            DS: '500.000000'\n",
       "(0018,1020) Software Versions                   LO: '06MW03.5'\n",
       "(0018,1100) Reconstruction Diameter             DS: '380.000000'\n",
       "(0018,1110) Distance Source to Detector         DS: '949.075012'\n",
       "(0018,1111) Distance Source to Patient          DS: '541.000000'\n",
       "(0018,1120) Gantry/Detector Tilt                DS: '0.000000'\n",
       "(0018,1130) Table Height                        DS: '132.500000'\n",
       "(0018,1140) Rotation Direction                  CS: 'CW'\n",
       "(0018,1150) Exposure Time                       IS: '1160'\n",
       "(0018,1151) X-Ray Tube Current                  IS: '300'\n",
       "(0018,1152) Exposure                            IS: '32'\n",
       "(0018,1160) Filter Type                         SH: 'BODY FILTER'\n",
       "(0018,1170) Generator Power                     IS: '36000'\n",
       "(0018,1190) Focal Spot(s)                       DS: '1.200000'\n",
       "(0018,1210) Convolution Kernel                  SH: 'STANDARD'\n",
       "(0018,5100) Patient Position                    CS: 'FFS'\n",
       "(0020,000D) Study Instance UID                  UI: 1.3.6.1.4.1.14519.5.2.1.6279.6001.234120235997503955698755550667\n",
       "(0020,000E) Series Instance UID                 UI: 1.3.6.1.4.1.14519.5.2.1.6279.6001.328789598898469177563438457842\n",
       "(0020,0010) Study ID                            SH: ''\n",
       "(0020,0011) Series Number                       IS: '3000561'\n",
       "(0020,0013) Instance Number                     IS: '65'\n",
       "(0020,0032) Image Position (Patient)            DS: [-194.500000, -219.000000, -197.750000]\n",
       "(0020,0037) Image Orientation (Patient)         DS: [1.000000, 0.000000, 0.000000, 0.000000, 1.000000, 0.000000]\n",
       "(0020,0052) Frame of Reference UID              UI: 1.3.6.1.4.1.14519.5.2.1.6279.6001.282883201646004112666339072444\n",
       "(0020,1040) Position Reference Indicator        LO: 'SN'\n",
       "(0020,1041) Slice Location                      DS: '-197.750000'\n",
       "(0028,0002) Samples per Pixel                   US: 1\n",
       "(0028,0004) Photometric Interpretation          CS: 'MONOCHROME2'\n",
       "(0028,0010) Rows                                US: 512\n",
       "(0028,0011) Columns                             US: 512\n",
       "(0028,0030) Pixel Spacing                       DS: [0.742188, 0.742188]\n",
       "(0028,0100) Bits Allocated                      US: 16\n",
       "(0028,0101) Bits Stored                         US: 16\n",
       "(0028,0102) High Bit                            US: 15\n",
       "(0028,0103) Pixel Representation                US: 1\n",
       "(0028,0120) Pixel Padding Value                 SS: -2000\n",
       "(0028,0303) Longitudinal Temporal Information M CS: 'MODIFIED'\n",
       "(0028,1050) Window Center                       DS: '-600'\n",
       "(0028,1051) Window Width                        DS: '1600'\n",
       "(0028,1052) Rescale Intercept                   DS: '-1024'\n",
       "(0028,1053) Rescale Slope                       DS: '1'\n",
       "(0038,0020) Admitting Date                      DA: '20000101'\n",
       "(0040,0002) Scheduled Procedure Step Start Date DA: '20000101'\n",
       "(0040,0004) Scheduled Procedure Step End Date   DA: '20000101'\n",
       "(0040,0244) Performed Procedure Step Start Date DA: '20000101'\n",
       "(0040,2016) Placer Order Number / Imaging Servi LO: ''\n",
       "(0040,2017) Filler Order Number / Imaging Servi LO: ''\n",
       "(0040,A075) Verifying Observer Name             PN: 'Removed by CTP'\n",
       "(0040,A123) Person Name                         PN: 'Removed by CTP'\n",
       "(0040,A124) UID                                 UI: 1.3.6.1.4.1.14519.5.2.1.6279.6001.177455798973740701203046557977\n",
       "(0070,0084) Content Creator's Name              PN: ''\n",
       "(0088,0140) Storage Media File-set UID          UI: 1.3.6.1.4.1.14519.5.2.1.6279.6001.142532630726143187607604485054\n",
       "(7FE0,0010) Pixel Data                          OW: Array of 524288 elements"
      ]
     },
     "execution_count": 3,
     "metadata": {},
     "output_type": "execute_result"
    }
   ],
   "source": [
    "dicom_img #"
   ]
  },
  {
   "cell_type": "code",
   "execution_count": null,
   "id": "161c1fb3",
   "metadata": {},
   "outputs": [],
   "source": []
  }
 ],
 "metadata": {
  "kernelspec": {
   "display_name": "base",
   "language": "python",
   "name": "python3"
  },
  "language_info": {
   "codemirror_mode": {
    "name": "ipython",
    "version": 3
   },
   "file_extension": ".py",
   "mimetype": "text/x-python",
   "name": "python",
   "nbconvert_exporter": "python",
   "pygments_lexer": "ipython3",
   "version": "3.12.7"
  }
 },
 "nbformat": 4,
 "nbformat_minor": 5
}
