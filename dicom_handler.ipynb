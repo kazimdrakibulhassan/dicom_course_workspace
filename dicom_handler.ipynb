{
 "cells": [
  {
   "cell_type": "markdown",
   "id": "2f3dc5a4",
   "metadata": {},
   "source": [
    "### Importing the libraries"
   ]
  },
  {
   "cell_type": "code",
   "execution_count": 1,
   "id": "01c709de",
   "metadata": {},
   "outputs": [],
   "source": [
    "import pydicom\n",
    "import numpy as np\n",
    "import pandas as pd\n",
    "from PIL import Image"
   ]
  },
  {
   "cell_type": "code",
   "execution_count": 2,
   "id": "411e3d1c",
   "metadata": {},
   "outputs": [],
   "source": [
    "dicom_img = pydicom.dcmread(\"data/sample.dcm\")"
   ]
  },
  {
   "cell_type": "code",
   "execution_count": 3,
   "id": "21715dc9",
   "metadata": {},
   "outputs": [
    {
     "data": {
      "text/plain": [
       "Dataset.file_meta -------------------------------\n",
       "(0002,0000) File Meta Information Group Length  UL: 206\n",
       "(0002,0001) File Meta Information Version       OB: b'\\x00\\x01'\n",
       "(0002,0002) Media Storage SOP Class UID         UI: CT Image Storage\n",
       "(0002,0003) Media Storage SOP Instance UID      UI: 1.3.6.1.4.1.14519.5.2.1.6279.6001.146096930167080421473717909599\n",
       "(0002,0010) Transfer Syntax UID                 UI: Explicit VR Little Endian\n",
       "(0002,0012) Implementation Class UID            UI: 1.3.6.1.4.1.22213.1.143\n",
       "(0002,0013) Implementation Version Name         SH: '0.5'\n",
       "(0002,0016) Source Application Entity Title     AE: 'POSDA'\n",
       "-------------------------------------------------\n",
       "(0008,0005) Specific Character Set              CS: 'ISO_IR 100'\n",
       "(0008,0008) Image Type                          CS: ['ORIGINAL', 'PRIMARY', 'AXIAL']\n",
       "(0008,0016) SOP Class UID                       UI: CT Image Storage\n",
       "(0008,0018) SOP Instance UID                    UI: 1.3.6.1.4.1.14519.5.2.1.6279.6001.146096930167080421473717909599\n",
       "(0008,0020) Study Date                          DA: '20000101'\n",
       "(0008,0021) Series Date                         DA: '20000101'\n",
       "(0008,0022) Acquisition Date                    DA: '20000101'\n",
       "(0008,0023) Content Date                        DA: '20000101'\n",
       "(0008,0024) Overlay Date                        DA: '20000101'\n",
       "(0008,0025) Curve Date                          DA: '20000101'\n",
       "(0008,002A) Acquisition DateTime                DT: '20000101'\n",
       "(0008,0030) Study Time                          TM: ''\n",
       "(0008,0032) Acquisition Time                    TM: ''\n",
       "(0008,0033) Content Time                        TM: ''\n",
       "(0008,0050) Accession Number                    SH: ''\n",
       "(0008,0060) Modality                            CS: 'CT'\n",
       "(0008,0070) Manufacturer                        LO: 'GE MEDICAL SYSTEMS'\n",
       "(0008,0090) Referring Physician's Name          PN: ''\n",
       "(0008,1090) Manufacturer's Model Name           LO: 'LightSpeed16'\n",
       "(0008,1155) Referenced SOP Instance UID         UI: 1.3.6.1.4.1.14519.5.2.1.6279.6001.158139348308860992665003892411\n",
       "(0010,0010) Patient's Name                      PN: ''\n",
       "(0010,0020) Patient ID                          LO: 'LIDC-IDRI-0012'\n",
       "(0010,0030) Patient's Birth Date                DA: ''\n",
       "(0010,0040) Patient's Sex                       CS: ''\n",
       "(0010,1010) Patient's Age                       AS: ''\n",
       "(0010,21D0) Last Menstrual Date                 DA: '20000101'\n",
       "(0012,0062) Patient Identity Removed            CS: 'YES'\n",
       "(0012,0063) De-identification Method            LO: 'DCM:113100/113105/113107/113108/113109/113111'\n",
       "(0013,0010) Private Creator                     LO: 'CTP'\n",
       "(0013,1010) Private tag data                    LO: 'LIDC-IDRI'\n",
       "(0013,1013) Private tag data                    LO: '62796001'\n",
       "(0018,0010) Contrast/Bolus Agent                LO: 'ORAL/RECTAL & IV'\n",
       "(0018,0015) Body Part Examined                  CS: 'CHEST'\n",
       "(0018,0022) Scan Options                        CS: 'HELICAL MODE'\n",
       "(0018,0050) Slice Thickness                     DS: '2.500000'\n",
       "(0018,0060) KVP                                 DS: '120'\n",
       "(0018,0090) Data Collection Diameter            DS: '500.000000'\n",
       "(0018,1020) Software Versions                   LO: '06MW03.5'\n",
       "(0018,1100) Reconstruction Diameter             DS: '380.000000'\n",
       "(0018,1110) Distance Source to Detector         DS: '949.075012'\n",
       "(0018,1111) Distance Source to Patient          DS: '541.000000'\n",
       "(0018,1120) Gantry/Detector Tilt                DS: '0.000000'\n",
       "(0018,1130) Table Height                        DS: '132.500000'\n",
       "(0018,1140) Rotation Direction                  CS: 'CW'\n",
       "(0018,1150) Exposure Time                       IS: '1160'\n",
       "(0018,1151) X-Ray Tube Current                  IS: '300'\n",
       "(0018,1152) Exposure                            IS: '32'\n",
       "(0018,1160) Filter Type                         SH: 'BODY FILTER'\n",
       "(0018,1170) Generator Power                     IS: '36000'\n",
       "(0018,1190) Focal Spot(s)                       DS: '1.200000'\n",
       "(0018,1210) Convolution Kernel                  SH: 'STANDARD'\n",
       "(0018,5100) Patient Position                    CS: 'FFS'\n",
       "(0020,000D) Study Instance UID                  UI: 1.3.6.1.4.1.14519.5.2.1.6279.6001.234120235997503955698755550667\n",
       "(0020,000E) Series Instance UID                 UI: 1.3.6.1.4.1.14519.5.2.1.6279.6001.328789598898469177563438457842\n",
       "(0020,0010) Study ID                            SH: ''\n",
       "(0020,0011) Series Number                       IS: '3000561'\n",
       "(0020,0013) Instance Number                     IS: '65'\n",
       "(0020,0032) Image Position (Patient)            DS: [-194.500000, -219.000000, -197.750000]\n",
       "(0020,0037) Image Orientation (Patient)         DS: [1.000000, 0.000000, 0.000000, 0.000000, 1.000000, 0.000000]\n",
       "(0020,0052) Frame of Reference UID              UI: 1.3.6.1.4.1.14519.5.2.1.6279.6001.282883201646004112666339072444\n",
       "(0020,1040) Position Reference Indicator        LO: 'SN'\n",
       "(0020,1041) Slice Location                      DS: '-197.750000'\n",
       "(0028,0002) Samples per Pixel                   US: 1\n",
       "(0028,0004) Photometric Interpretation          CS: 'MONOCHROME2'\n",
       "(0028,0010) Rows                                US: 512\n",
       "(0028,0011) Columns                             US: 512\n",
       "(0028,0030) Pixel Spacing                       DS: [0.742188, 0.742188]\n",
       "(0028,0100) Bits Allocated                      US: 16\n",
       "(0028,0101) Bits Stored                         US: 16\n",
       "(0028,0102) High Bit                            US: 15\n",
       "(0028,0103) Pixel Representation                US: 1\n",
       "(0028,0120) Pixel Padding Value                 SS: -2000\n",
       "(0028,0303) Longitudinal Temporal Information M CS: 'MODIFIED'\n",
       "(0028,1050) Window Center                       DS: '-600'\n",
       "(0028,1051) Window Width                        DS: '1600'\n",
       "(0028,1052) Rescale Intercept                   DS: '-1024'\n",
       "(0028,1053) Rescale Slope                       DS: '1'\n",
       "(0038,0020) Admitting Date                      DA: '20000101'\n",
       "(0040,0002) Scheduled Procedure Step Start Date DA: '20000101'\n",
       "(0040,0004) Scheduled Procedure Step End Date   DA: '20000101'\n",
       "(0040,0244) Performed Procedure Step Start Date DA: '20000101'\n",
       "(0040,2016) Placer Order Number / Imaging Servi LO: ''\n",
       "(0040,2017) Filler Order Number / Imaging Servi LO: ''\n",
       "(0040,A075) Verifying Observer Name             PN: 'Removed by CTP'\n",
       "(0040,A123) Person Name                         PN: 'Removed by CTP'\n",
       "(0040,A124) UID                                 UI: 1.3.6.1.4.1.14519.5.2.1.6279.6001.177455798973740701203046557977\n",
       "(0070,0084) Content Creator's Name              PN: ''\n",
       "(0088,0140) Storage Media File-set UID          UI: 1.3.6.1.4.1.14519.5.2.1.6279.6001.142532630726143187607604485054\n",
       "(7FE0,0010) Pixel Data                          OW: Array of 524288 elements"
      ]
     },
     "execution_count": 3,
     "metadata": {},
     "output_type": "execute_result"
    }
   ],
   "source": [
    "dicom_img "
   ]
  },
  {
   "cell_type": "code",
   "execution_count": 4,
   "id": "161c1fb3",
   "metadata": {},
   "outputs": [
    {
     "name": "stdout",
     "output_type": "stream",
     "text": [
      "Name :   ID :  LIDC-IDRI-0012\n"
     ]
    }
   ],
   "source": [
    "#Reading any metadata header \n",
    "id = dicom_img.PatientID\n",
    "name = dicom_img.PatientName\n",
    "print(\"Name : \",name, \"ID : \",id)"
   ]
  },
  {
   "cell_type": "code",
   "execution_count": 5,
   "id": "ba44ce13",
   "metadata": {},
   "outputs": [
    {
     "name": "stdout",
     "output_type": "stream",
     "text": [
      "[[-1024 -1024 -1024 ... -1024 -1024 -1024]\n",
      " [-1024 -1024 -1024 ... -1024 -1024 -1024]\n",
      " [-1024 -1024 -1024 ... -1024 -1024 -1024]\n",
      " ...\n",
      " [-1024 -1024 -1024 ... -1024 -1024 -1024]\n",
      " [-1024 -1024 -1024 ... -1024 -1024 -1024]\n",
      " [-1024 -1024 -1024 ... -1024 -1024 -1024]]\n"
     ]
    }
   ],
   "source": [
    "dicom_array = dicom_img.pixel_array\n",
    "print(dicom_array)"
   ]
  },
  {
   "cell_type": "code",
   "execution_count": 6,
   "id": "a5818d36",
   "metadata": {},
   "outputs": [
    {
     "data": {
      "text/plain": [
       "(512, 512)"
      ]
     },
     "execution_count": 6,
     "metadata": {},
     "output_type": "execute_result"
    }
   ],
   "source": [
    "dicom_array.shape"
   ]
  },
  {
   "cell_type": "markdown",
   "id": "6be6fcc6",
   "metadata": {},
   "source": [
    "## Show Image"
   ]
  },
  {
   "cell_type": "code",
   "execution_count": 7,
   "id": "a33026a8",
   "metadata": {},
   "outputs": [
    {
     "data": {
      "text/plain": [
       "array([-1024,     0,     1, ...,  2149,  2175,  2208], dtype=int16)"
      ]
     },
     "execution_count": 7,
     "metadata": {},
     "output_type": "execute_result"
    }
   ],
   "source": [
    "type(dicom_array)\n",
    "np.unique(dicom_array) "
   ]
  },
  {
   "cell_type": "code",
   "execution_count": 8,
   "id": "a8e406d8",
   "metadata": {},
   "outputs": [],
   "source": [
    "#convert the int 16  to a numpy array float numbers\n",
    "float_dicom_array = dicom_array.astype(float)\n",
    "#in the dicom array we see negative values in the array it removes the negative values and convert to postitive. maxumun function takes 2 arg is the the pixel array another is the value we want to set , for this array we have set the set the negative values to become 0\n",
    "positive_dicom_array = np.maximum(float_dicom_array,0)"
   ]
  },
  {
   "cell_type": "code",
   "execution_count": 9,
   "id": "c6b18b77",
   "metadata": {},
   "outputs": [
    {
     "data": {
      "text/plain": [
       "array([0.000e+00, 1.000e+00, 2.000e+00, ..., 2.149e+03, 2.175e+03,\n",
       "       2.208e+03])"
      ]
     },
     "execution_count": 9,
     "metadata": {},
     "output_type": "execute_result"
    }
   ],
   "source": [
    "np.unique(positive_dicom_array)"
   ]
  },
  {
   "cell_type": "code",
   "execution_count": 10,
   "id": "d521711a",
   "metadata": {},
   "outputs": [
    {
     "data": {
      "text/plain": [
       "array([0.00000000e+00, 4.52898551e-04, 9.05797101e-04, ...,\n",
       "       9.73278986e-01, 9.85054348e-01, 1.00000000e+00])"
      ]
     },
     "execution_count": 10,
     "metadata": {},
     "output_type": "execute_result"
    }
   ],
   "source": [
    "#we are normalizing the value of positive_dicom_array by deviding the whole array with its maximum number so the values of every idex in the array is between 0-1 , hence normalized\n",
    "normalized_dicom_array = positive_dicom_array/positive_dicom_array.max()\n",
    "np.unique(normalized_dicom_array)"
   ]
  },
  {
   "cell_type": "code",
   "execution_count": 11,
   "id": "16108dbb",
   "metadata": {},
   "outputs": [
    {
     "data": {
      "text/plain": [
       "array([0.00000000e+00, 1.15489130e-01, 2.30978261e-01, ...,\n",
       "       2.48186141e+02, 2.51188859e+02, 2.55000000e+02])"
      ]
     },
     "execution_count": 11,
     "metadata": {},
     "output_type": "execute_result"
    }
   ],
   "source": [
    "normalized_dicom_array = normalized_dicom_array * 255.0\n",
    "np.unique(normalized_dicom_array)"
   ]
  },
  {
   "cell_type": "code",
   "execution_count": 12,
   "id": "af5768ea",
   "metadata": {},
   "outputs": [
    {
     "data": {
      "text/plain": [
       "array([  0,   1,   2,   3,   4,   5,   6,   7,   8,   9,  10,  11,  12,\n",
       "        13,  14,  15,  16,  17,  18,  19,  20,  21,  22,  23,  24,  25,\n",
       "        26,  27,  28,  29,  30,  31,  32,  33,  34,  35,  36,  37,  38,\n",
       "        39,  40,  41,  42,  43,  44,  45,  46,  47,  48,  49,  50,  51,\n",
       "        52,  53,  54,  55,  56,  57,  58,  59,  60,  61,  62,  63,  64,\n",
       "        65,  66,  67,  68,  69,  70,  71,  72,  73,  74,  75,  76,  77,\n",
       "        78,  79,  80,  81,  82,  83,  84,  85,  86,  87,  88,  89,  90,\n",
       "        91,  92,  93,  94,  95,  96,  97,  98,  99, 100, 101, 102, 103,\n",
       "       104, 105, 106, 107, 108, 109, 110, 111, 112, 113, 114, 115, 116,\n",
       "       117, 118, 119, 120, 121, 122, 123, 124, 125, 126, 127, 128, 129,\n",
       "       130, 131, 132, 133, 134, 135, 136, 137, 138, 139, 140, 141, 142,\n",
       "       143, 144, 145, 146, 147, 148, 149, 150, 151, 152, 153, 154, 155,\n",
       "       156, 157, 158, 159, 160, 161, 162, 163, 164, 165, 166, 167, 168,\n",
       "       169, 170, 171, 172, 173, 174, 175, 176, 177, 178, 179, 180, 181,\n",
       "       182, 183, 184, 185, 186, 187, 188, 189, 190, 191, 192, 193, 194,\n",
       "       195, 196, 197, 198, 199, 200, 201, 202, 203, 204, 205, 206, 207,\n",
       "       208, 209, 210, 211, 212, 213, 214, 215, 216, 217, 218, 219, 220,\n",
       "       221, 222, 223, 224, 225, 226, 227, 228, 229, 230, 231, 232, 233,\n",
       "       234, 235, 237, 239, 240, 241, 242, 243, 244, 245, 246, 248, 251,\n",
       "       255], dtype=uint8)"
      ]
     },
     "execution_count": 12,
     "metadata": {},
     "output_type": "execute_result"
    }
   ],
   "source": [
    "uint8_image = np.uint8(normalized_dicom_array)\n",
    "np.unique(uint8_image)"
   ]
  },
  {
   "cell_type": "code",
   "execution_count": null,
   "id": "7ba020a2",
   "metadata": {},
   "outputs": [],
   "source": [
    "pillow_image = Image.fromarray(uint8_image)\n",
    "# pillow_image.show()"
   ]
  },
  {
   "cell_type": "markdown",
   "id": "f757cc2a",
   "metadata": {},
   "source": [
    "## Show Image 2 using hounsfiled unit"
   ]
  },
  {
   "cell_type": "code",
   "execution_count": 18,
   "id": "59a0b591",
   "metadata": {},
   "outputs": [
    {
     "name": "stdout",
     "output_type": "stream",
     "text": [
      "hounsfield min :  -1024\n",
      "hounsfield max :  2208\n",
      "hounsfield range :  3232\n"
     ]
    }
   ],
   "source": [
    "hounsfield_min = np.min(dicom_array)\n",
    "hounsfield_max = np.max(dicom_array)\n",
    "hounsfield_range = hounsfield_max - hounsfield_min\n",
    "print(\"hounsfield min : \", hounsfield_min)\n",
    "print(\"hounsfield max : \", hounsfield_max)\n",
    "print(\"hounsfield range : \",hounsfield_range)"
   ]
  },
  {
   "cell_type": "code",
   "execution_count": 22,
   "id": "e11e0baa",
   "metadata": {},
   "outputs": [],
   "source": [
    "dicom_array[dicom_array<hounsfield_min] = hounsfield_min\n",
    "dicom_array[dicom_array>hounsfield_max] = hounsfield_max\n",
    "hounsfield_normalized_array = (dicom_array - hounsfield_min) / hounsfield_range\n",
    "hounsfield_normalized_array = hounsfield_normalized_array * 255.0\n",
    "hounsfield_uint8_image = np.uint8(hounsfield_normalized_array)"
   ]
  },
  {
   "cell_type": "code",
   "execution_count": 23,
   "id": "e5a54b73",
   "metadata": {},
   "outputs": [],
   "source": [
    "hounsfield_pillow_image = Image.fromarray(hounsfield_uint8_image)\n",
    "hounsfield_pillow_image.show()"
   ]
  }
 ],
 "metadata": {
  "kernelspec": {
   "display_name": "base",
   "language": "python",
   "name": "python3"
  },
  "language_info": {
   "codemirror_mode": {
    "name": "ipython",
    "version": 3
   },
   "file_extension": ".py",
   "mimetype": "text/x-python",
   "name": "python",
   "nbconvert_exporter": "python",
   "pygments_lexer": "ipython3",
   "version": "3.12.7"
  }
 },
 "nbformat": 4,
 "nbformat_minor": 5
}
